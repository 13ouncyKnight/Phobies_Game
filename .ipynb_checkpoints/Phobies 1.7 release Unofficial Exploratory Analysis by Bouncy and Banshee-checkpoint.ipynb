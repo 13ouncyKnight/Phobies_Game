{
 "cells": [
  {
   "cell_type": "markdown",
   "id": "62a4b606",
   "metadata": {},
   "source": [
    "# Introduction: Phobies Game by Smoking Gun\n",
    "\n",
    "##### &nbsp; &nbsp; &nbsp; &nbsp; &nbsp; &nbsp; If there is a game that I have spent countless days on, sometimes even without sleep, that is the game Phobies! <br> When I got my hands on the game, I always made sure to get the maximum rewards by playing the maximum amount of games. <br> As a chess player, I enjoyed the game since you can plot your schemes, strategize your moves, set traps and tactics to sabotage your opponent's pieces. To wrap it up, it is the fun of the game that made us do this analysis.\n",
    "\n",
    "### Disclaimer: We are not directly connected to the developers of the game whatsoever, all copyrights belong to them. No copyright infringement intended. This analysis is for study purposes only and not a means for financial gain.\n",
    "\n",
    "### We hope you enjoy our analysis! Take care!"
   ]
  },
  {
   "cell_type": "markdown",
   "id": "b8645496",
   "metadata": {},
   "source": [
    "Referral Link to download the game: \n",
    "\n",
    "BouncyPhoebe invites you to try Phobies! Phobies is an easy game to learn and incredibly fun to master!<br>\n",
    "Your referral code is: *d373abfe6dcc8147* <br>\n",
    "After you've completed a quick tutorial, enter your code in the options menu to receive a scary reward. \n",
    "\n",
    "You can download the game here: **Phobies.com**"
   ]
  },
  {
   "cell_type": "markdown",
   "id": "1d49da7f",
   "metadata": {},
   "source": [
    "I have watched a couple of fright night tournament games from RTChompGG's YT (more info about the tournament on his discord: <a href=\"https://discord.com/channels/484375872988774410/1096072439944974478\">rtchompgg's discord)</a>, and they designed the tournament so that all similar phobies would have exactly the same health and attack stats. The main game changer now would be the range of the participants collection/album, strategies and experience. \n",
    "\n",
    "While there are not yet guidelines for analysis for the game like maximizing the value of your keys based on health and attack stats, allow us to dive deeper with our basic statistical exploratory analysis knowledge."
   ]
  },
  {
   "cell_type": "code",
   "execution_count": 1,
   "id": "c320ffca",
   "metadata": {},
   "outputs": [
    {
     "name": "stdout",
     "output_type": "stream",
     "text": [
      "Hello! Phobies Wranglers!\n"
     ]
    }
   ],
   "source": [
    "print(\"Hello! Phobies Wranglers!\")"
   ]
  },
  {
   "cell_type": "markdown",
   "id": "02a4f64d",
   "metadata": {},
   "source": [
    "Let's start by counting how many Phobies we already have since 1.7 release by importing an excel file we have updated earlier from the <a href=\"https://phobies.fandom.com/wiki/Phobies_Wiki\">Phobies Wiki.</a>"
   ]
  },
  {
   "cell_type": "code",
   "execution_count": 15,
   "id": "0cbb2f44",
   "metadata": {
    "scrolled": true
   },
   "outputs": [
    {
     "data": {
      "text/plain": [
       "(159, 59)"
      ]
     },
     "execution_count": 15,
     "metadata": {},
     "output_type": "execute_result"
    }
   ],
   "source": [
    "import pandas as pd\n",
    "\n",
    "df = pd.read_excel('Official Phobies Database(1.7 Bouncy Edit).xlsx')\n",
    "\n",
    "df.shape"
   ]
  },
  {
   "cell_type": "markdown",
   "id": "a09f69d5",
   "metadata": {},
   "source": [
    "*In our dataset, we have **159 Rows and 59 Columns.***"
   ]
  },
  {
   "cell_type": "code",
   "execution_count": 16,
   "id": "43602509",
   "metadata": {
    "scrolled": false
   },
   "outputs": [
    {
     "data": {
      "text/html": [
       "<div>\n",
       "<style scoped>\n",
       "    .dataframe tbody tr th:only-of-type {\n",
       "        vertical-align: middle;\n",
       "    }\n",
       "\n",
       "    .dataframe tbody tr th {\n",
       "        vertical-align: top;\n",
       "    }\n",
       "\n",
       "    .dataframe thead th {\n",
       "        text-align: right;\n",
       "    }\n",
       "</style>\n",
       "<table border=\"1\" class=\"dataframe\">\n",
       "  <thead>\n",
       "    <tr style=\"text-align: right;\">\n",
       "      <th></th>\n",
       "      <th>Key Cost</th>\n",
       "      <th>Name</th>\n",
       "      <th>Race</th>\n",
       "      <th>Rarity</th>\n",
       "      <th>Movement Type</th>\n",
       "      <th>Movement Range</th>\n",
       "      <th>Attack Range</th>\n",
       "      <th>Health</th>\n",
       "      <th>Attack</th>\n",
       "      <th>Splash</th>\n",
       "      <th>...</th>\n",
       "      <th>Fire.1</th>\n",
       "      <th>Disease.2</th>\n",
       "      <th>Duration.2</th>\n",
       "      <th>Effect Duration</th>\n",
       "      <th>Initiating Attack Type.1</th>\n",
       "      <th>Effect Range.1</th>\n",
       "      <th>Cooldown</th>\n",
       "      <th>Unlocking</th>\n",
       "      <th>Stress Level</th>\n",
       "      <th>Icon URL</th>\n",
       "    </tr>\n",
       "  </thead>\n",
       "  <tbody>\n",
       "    <tr>\n",
       "      <th>0</th>\n",
       "      <td>1.0</td>\n",
       "      <td>Razor Mouth</td>\n",
       "      <td>Monster</td>\n",
       "      <td>Common</td>\n",
       "      <td>Walking</td>\n",
       "      <td>2.0</td>\n",
       "      <td>1.0</td>\n",
       "      <td>600.0</td>\n",
       "      <td>300.0</td>\n",
       "      <td>No</td>\n",
       "      <td>...</td>\n",
       "      <td>NaN</td>\n",
       "      <td>NaN</td>\n",
       "      <td>NaN</td>\n",
       "      <td>NaN</td>\n",
       "      <td>NaN</td>\n",
       "      <td>NaN</td>\n",
       "      <td>NaN</td>\n",
       "      <td>NaN</td>\n",
       "      <td>1.0</td>\n",
       "      <td>NaN</td>\n",
       "    </tr>\n",
       "    <tr>\n",
       "      <th>1</th>\n",
       "      <td>1.0</td>\n",
       "      <td>AWOL</td>\n",
       "      <td>Monster</td>\n",
       "      <td>Common</td>\n",
       "      <td>Walking</td>\n",
       "      <td>2.0</td>\n",
       "      <td>1.0</td>\n",
       "      <td>350.0</td>\n",
       "      <td>475.0</td>\n",
       "      <td>No</td>\n",
       "      <td>...</td>\n",
       "      <td>NaN</td>\n",
       "      <td>NaN</td>\n",
       "      <td>NaN</td>\n",
       "      <td>NaN</td>\n",
       "      <td>NaN</td>\n",
       "      <td>NaN</td>\n",
       "      <td>NaN</td>\n",
       "      <td>NaN</td>\n",
       "      <td>NaN</td>\n",
       "      <td>NaN</td>\n",
       "    </tr>\n",
       "    <tr>\n",
       "      <th>2</th>\n",
       "      <td>1.0</td>\n",
       "      <td>Electricat</td>\n",
       "      <td>Monster</td>\n",
       "      <td>Uncommon</td>\n",
       "      <td>Walking</td>\n",
       "      <td>2.0</td>\n",
       "      <td>1.0</td>\n",
       "      <td>620.0</td>\n",
       "      <td>200.0</td>\n",
       "      <td>No</td>\n",
       "      <td>...</td>\n",
       "      <td>NaN</td>\n",
       "      <td>NaN</td>\n",
       "      <td>NaN</td>\n",
       "      <td>NaN</td>\n",
       "      <td>NaN</td>\n",
       "      <td>NaN</td>\n",
       "      <td>NaN</td>\n",
       "      <td>NaN</td>\n",
       "      <td>NaN</td>\n",
       "      <td>NaN</td>\n",
       "    </tr>\n",
       "    <tr>\n",
       "      <th>3</th>\n",
       "      <td>1.0</td>\n",
       "      <td>Muffintop</td>\n",
       "      <td>Monster</td>\n",
       "      <td>Uncommon</td>\n",
       "      <td>Walking</td>\n",
       "      <td>2.0</td>\n",
       "      <td>NaN</td>\n",
       "      <td>550.0</td>\n",
       "      <td>NaN</td>\n",
       "      <td>No</td>\n",
       "      <td>...</td>\n",
       "      <td>NaN</td>\n",
       "      <td>NaN</td>\n",
       "      <td>NaN</td>\n",
       "      <td>NaN</td>\n",
       "      <td>Line of Sight</td>\n",
       "      <td>Single Target Attack</td>\n",
       "      <td>NaN</td>\n",
       "      <td>NaN</td>\n",
       "      <td>NaN</td>\n",
       "      <td>NaN</td>\n",
       "    </tr>\n",
       "    <tr>\n",
       "      <th>4</th>\n",
       "      <td>1.0</td>\n",
       "      <td>Tickles</td>\n",
       "      <td>Monster</td>\n",
       "      <td>Uncommon</td>\n",
       "      <td>Walking</td>\n",
       "      <td>2.0</td>\n",
       "      <td>1.0</td>\n",
       "      <td>750.0</td>\n",
       "      <td>200.0</td>\n",
       "      <td>No</td>\n",
       "      <td>...</td>\n",
       "      <td>NaN</td>\n",
       "      <td>NaN</td>\n",
       "      <td>NaN</td>\n",
       "      <td>NaN</td>\n",
       "      <td>NaN</td>\n",
       "      <td>NaN</td>\n",
       "      <td>NaN</td>\n",
       "      <td>NaN</td>\n",
       "      <td>NaN</td>\n",
       "      <td>NaN</td>\n",
       "    </tr>\n",
       "  </tbody>\n",
       "</table>\n",
       "<p>5 rows × 59 columns</p>\n",
       "</div>"
      ],
      "text/plain": [
       "   Key Cost         Name     Race    Rarity Movement Type  Movement Range  \\\n",
       "0       1.0  Razor Mouth  Monster    Common       Walking             2.0   \n",
       "1       1.0         AWOL  Monster    Common       Walking             2.0   \n",
       "2       1.0   Electricat  Monster  Uncommon       Walking             2.0   \n",
       "3       1.0    Muffintop  Monster  Uncommon       Walking             2.0   \n",
       "4       1.0      Tickles  Monster  Uncommon       Walking             2.0   \n",
       "\n",
       "   Attack Range  Health  Attack Splash  ... Fire.1 Disease.2  Duration.2  \\\n",
       "0           1.0   600.0   300.0     No  ...    NaN       NaN         NaN   \n",
       "1           1.0   350.0   475.0     No  ...    NaN       NaN         NaN   \n",
       "2           1.0   620.0   200.0     No  ...    NaN       NaN         NaN   \n",
       "3           NaN   550.0     NaN     No  ...    NaN       NaN         NaN   \n",
       "4           1.0   750.0   200.0     No  ...    NaN       NaN         NaN   \n",
       "\n",
       "  Effect Duration Initiating Attack Type.1        Effect Range.1 Cooldown  \\\n",
       "0             NaN                      NaN                   NaN      NaN   \n",
       "1             NaN                      NaN                   NaN      NaN   \n",
       "2             NaN                      NaN                   NaN      NaN   \n",
       "3             NaN            Line of Sight  Single Target Attack      NaN   \n",
       "4             NaN                      NaN                   NaN      NaN   \n",
       "\n",
       "  Unlocking Stress Level  Icon URL  \n",
       "0       NaN          1.0       NaN  \n",
       "1       NaN          NaN       NaN  \n",
       "2       NaN          NaN       NaN  \n",
       "3       NaN          NaN       NaN  \n",
       "4       NaN          NaN       NaN  \n",
       "\n",
       "[5 rows x 59 columns]"
      ]
     },
     "execution_count": 16,
     "metadata": {},
     "output_type": "execute_result"
    }
   ],
   "source": [
    "df.head(5)"
   ]
  },
  {
   "cell_type": "code",
   "execution_count": 23,
   "id": "6478ac77",
   "metadata": {},
   "outputs": [
    {
     "data": {
      "text/plain": [
       "<bound method DataFrame.info of      Key Cost Name         Race      Rarity Movement Type  Movement Range  \\\n",
       "0         1.0           Monster      Common       Walking             2.0   \n",
       "1         1.0           Monster      Common       Walking             2.0   \n",
       "2         1.0           Monster    Uncommon       Walking             2.0   \n",
       "3         1.0           Monster    Uncommon       Walking             2.0   \n",
       "4         1.0           Monster    Uncommon       Walking             2.0   \n",
       "..        ...  ...          ...         ...           ...             ...   \n",
       "154       8.0       Dimensional  Ultra Rare       Walking             2.0   \n",
       "155       9.0           Monster  Ultra Rare     Bypassing             2.0   \n",
       "156       9.0        Mechanical  Ultra Rare       Walking             2.0   \n",
       "157       9.0            Undead  Ultra Rare       Walking             1.0   \n",
       "158       9.0       Dimensional  Ultra Rare       Walking             2.0   \n",
       "\n",
       "     Attack Range  Health  Attack Splash  ... Fire.1 Disease.2  Duration.2  \\\n",
       "0             1.0   600.0   300.0     No  ...    NaN       NaN         NaN   \n",
       "1             1.0   350.0   475.0     No  ...    NaN       NaN         NaN   \n",
       "2             1.0   620.0   200.0     No  ...    NaN       NaN         NaN   \n",
       "3             NaN   550.0     NaN     No  ...    NaN       NaN         NaN   \n",
       "4             1.0   750.0   200.0     No  ...    NaN       NaN         NaN   \n",
       "..            ...     ...     ...    ...  ...    ...       ...         ...   \n",
       "154           2.0  1800.0   425.0    Yes  ...    NaN       NaN         NaN   \n",
       "155           1.0  2000.0   800.0     No  ...    NaN       NaN         NaN   \n",
       "156           2.0  2200.0   350.0     No  ...    NaN       NaN         NaN   \n",
       "157           3.0  1800.0   450.0     No  ...    NaN       NaN         NaN   \n",
       "158           2.0  1600.0   400.0    Yes  ...    NaN       NaN         NaN   \n",
       "\n",
       "    Effect Duration Initiating Attack Type.1        Effect Range.1 Cooldown  \\\n",
       "0               NaN                      NaN                   NaN      NaN   \n",
       "1               NaN                      NaN                   NaN      NaN   \n",
       "2               NaN                      NaN                   NaN      NaN   \n",
       "3               NaN            Line of Sight  Single Target Attack      NaN   \n",
       "4               NaN                      NaN                   NaN      NaN   \n",
       "..              ...                      ...                   ...      ...   \n",
       "154             NaN            Line of Sight           Beam Attack      1.0   \n",
       "155             NaN            Line of Sight  Single Target Attack      1.0   \n",
       "156             NaN                      NaN                   NaN      NaN   \n",
       "157             NaN                      NaN                   NaN      NaN   \n",
       "158             NaN                  All Map               All Map      3.0   \n",
       "\n",
       "    Unlocking Stress Level  Icon URL  \n",
       "0         NaN          1.0       NaN  \n",
       "1         NaN          NaN       NaN  \n",
       "2         NaN          NaN       NaN  \n",
       "3         NaN          NaN       NaN  \n",
       "4         NaN          NaN       NaN  \n",
       "..        ...          ...       ...  \n",
       "154       1.0          NaN       NaN  \n",
       "155       1.0          NaN       NaN  \n",
       "156       NaN          NaN       NaN  \n",
       "157       NaN          NaN       NaN  \n",
       "158       1.0         90.0       NaN  \n",
       "\n",
       "[159 rows x 59 columns]>"
      ]
     },
     "execution_count": 23,
     "metadata": {},
     "output_type": "execute_result"
    }
   ],
   "source": [
    "df.info"
   ]
  },
  {
   "cell_type": "code",
   "execution_count": 22,
   "id": "e914b3f2",
   "metadata": {},
   "outputs": [
    {
     "data": {
      "text/plain": [
       "    159\n",
       "Name: Name, dtype: int64"
      ]
     },
     "execution_count": 22,
     "metadata": {},
     "output_type": "execute_result"
    }
   ],
   "source": [
    "df['Name']. value_counts()"
   ]
  },
  {
   "cell_type": "code",
   "execution_count": null,
   "id": "13b32615",
   "metadata": {},
   "outputs": [],
   "source": []
  },
  {
   "cell_type": "code",
   "execution_count": null,
   "id": "91231d1c",
   "metadata": {},
   "outputs": [],
   "source": []
  },
  {
   "cell_type": "code",
   "execution_count": null,
   "id": "4c11594f",
   "metadata": {},
   "outputs": [],
   "source": []
  },
  {
   "cell_type": "code",
   "execution_count": null,
   "id": "85f3f525",
   "metadata": {},
   "outputs": [],
   "source": []
  }
 ],
 "metadata": {
  "kernelspec": {
   "display_name": "Python 3 (ipykernel)",
   "language": "python",
   "name": "python3"
  },
  "language_info": {
   "codemirror_mode": {
    "name": "ipython",
    "version": 3
   },
   "file_extension": ".py",
   "mimetype": "text/x-python",
   "name": "python",
   "nbconvert_exporter": "python",
   "pygments_lexer": "ipython3",
   "version": "3.10.9"
  }
 },
 "nbformat": 4,
 "nbformat_minor": 5
}
